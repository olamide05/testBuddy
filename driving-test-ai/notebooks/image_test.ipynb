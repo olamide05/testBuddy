{
 "cells": [
  {
   "cell_type": "code",
   "execution_count": null,
   "id": "df71c528",
   "metadata": {},
   "outputs": [
    {
     "name": "stdout",
     "output_type": "stream",
     "text": [
      "Here are a few caption options for this adorable pug puppy image:\n",
      "\n",
      "**Short & Sweet:**\n",
      "*   Sweet pug puppy.\n",
      "*   Those soulful eyes.\n",
      "*   Pug perfection.\n",
      "*   Pure puppy love.\n",
      "*   Little worried face.\n",
      "\n",
      "**Descriptive:**\n",
      "*   A charming fawn pug puppy with a black mask, gazing thoughtfully.\n",
      "*   Close-up of an adorable pug puppy, featuring its characteristic wrinkles and wide, innocent eyes, set against a pristine white background.\n",
      "\n",
      "**Evocative/Emotional:**\n",
      "*   What's on this sweet pug puppy's mind? Those eyes tell a story.\n",
      "*   Melting hearts with every glance – the unmistakable charm of a pug puppy.\n",
      "*   A tiny face full of wonder and a hint of melancholy.\n",
      "*   The kind of puppy dog eyes that make you want to give endless cuddles.\n",
      "\n",
      "**With a Touch of Playfulness:**\n",
      "*   Someone's having a very important thought! (Probably about treats.)\n",
      "*   Practicing the classic pug stare.\n",
      "\n",
      "**Hashtags to consider:**\n",
      "#Pug #PugPuppy #FawnPug #CutePuppy #DogsofInstagram #PuppyLove #PugLife #AdorableAnimals #WrinklyDog #SoulfulEyes\n"
     ]
    }
   ],
   "source": [
    "from google import genai\n",
    "from google.genai import types\n",
    "\n",
    "# 1️⃣ Create a Gemini client (using your active gcloud auth)\n",
    "client = genai.Client(\n",
    "    vertexai=True,\n",
    "    project=\"bgn-ie-hack25dub-707\",\n",
    "    location=\"us-central1\",\n",
    ")\n",
    "\n",
    "# 2️⃣ Load the image bytes\n",
    "with open(\"../backend/app/data/scenario_images/dog.png\", \"rb\") as f:\n",
    "    image_bytes = f.read()\n",
    "\n",
    "# 3️⃣ Send the image and prompt to Gemini\n",
    "response = client.models.generate_content(\n",
    "    model=\"gemini-2.5-flash\",\n",
    "    contents=[\n",
    "        types.Part.from_bytes(data=image_bytes, mime_type=\"image/png\"),\n",
    "        \"Caption this image.\",\n",
    "    ],\n",
    ")\n",
    "\n",
    "# 4️⃣ Print the caption\n",
    "print(response.text)\n"
   ]
  },
  {
   "cell_type": "code",
   "execution_count": 2,
   "id": "852f93f9",
   "metadata": {},
   "outputs": [
    {
     "name": "stdout",
     "output_type": "stream",
     "text": [
      "**Hackathons: Build fast, break limits, inspire innovation.**\n"
     ]
    }
   ],
   "source": [
    "from google import genai\n",
    "client = genai.Client(vertexai=True, project=\"bgn-ie-hack25dub-707\", location=\"us-central1\")\n",
    "response = client.models.generate_content(\n",
    "    model=\"gemini-2.5-flash\",\n",
    "    contents=\"Write a one-line motivational quote about hackathons.\"\n",
    ")\n",
    "print(response.text)"
   ]
  }
 ],
 "metadata": {
  "kernelspec": {
   "display_name": "Python 3",
   "language": "python",
   "name": "python3"
  },
  "language_info": {
   "codemirror_mode": {
    "name": "ipython",
    "version": 3
   },
   "file_extension": ".py",
   "mimetype": "text/x-python",
   "name": "python",
   "nbconvert_exporter": "python",
   "pygments_lexer": "ipython3",
   "version": "3.9.6"
  }
 },
 "nbformat": 4,
 "nbformat_minor": 5
}
